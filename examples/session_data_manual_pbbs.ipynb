{
 "cells": [
  {
   "cell_type": "code",
   "execution_count": 1,
   "id": "8b11e1e0-ccc4-4fc9-9cdd-9f906e64b1c7",
   "metadata": {
    "tags": []
   },
   "outputs": [],
   "source": [
    "from IPython.core.interactiveshell import InteractiveShell\n",
    "InteractiveShell.ast_node_interactivity = \"all\"\n",
    "\n",
    "import numpy as np\n",
    "np.set_printoptions(legacy=\"1.25\")\n",
    "import pandas as pd\n",
    "from bayesian_testing.metrics import eval_bernoulli_agg, eval_delta_lognormal_agg"
   ]
  },
  {
   "cell_type": "code",
   "execution_count": 2,
   "id": "b31da712-cdb9-4671-b3ed-63e351896915",
   "metadata": {
    "tags": []
   },
   "outputs": [],
   "source": [
    "df = pd.read_csv(\"data/session_data.csv\")"
   ]
  },
  {
   "cell_type": "code",
   "execution_count": 3,
   "id": "6032fc6e-3a4c-47f3-830f-1a85d49c253c",
   "metadata": {
    "tags": []
   },
   "outputs": [
    {
     "data": {
      "text/plain": [
       "94500"
      ]
     },
     "execution_count": 3,
     "metadata": {},
     "output_type": "execute_result"
    },
    {
     "data": {
      "text/html": [
       "<div>\n",
       "<style scoped>\n",
       "    .dataframe tbody tr th:only-of-type {\n",
       "        vertical-align: middle;\n",
       "    }\n",
       "\n",
       "    .dataframe tbody tr th {\n",
       "        vertical-align: top;\n",
       "    }\n",
       "\n",
       "    .dataframe thead th {\n",
       "        text-align: right;\n",
       "    }\n",
       "</style>\n",
       "<table border=\"1\" class=\"dataframe\">\n",
       "  <thead>\n",
       "    <tr style=\"text-align: right;\">\n",
       "      <th></th>\n",
       "      <th>conversion</th>\n",
       "      <th>date</th>\n",
       "      <th>revenue</th>\n",
       "      <th>source</th>\n",
       "      <th>variant</th>\n",
       "    </tr>\n",
       "  </thead>\n",
       "  <tbody>\n",
       "    <tr>\n",
       "      <th>0</th>\n",
       "      <td>0</td>\n",
       "      <td>2021-08-07</td>\n",
       "      <td>0.000000</td>\n",
       "      <td>desktop</td>\n",
       "      <td>B</td>\n",
       "    </tr>\n",
       "    <tr>\n",
       "      <th>1</th>\n",
       "      <td>1</td>\n",
       "      <td>2021-08-05</td>\n",
       "      <td>7.241015</td>\n",
       "      <td>desktop</td>\n",
       "      <td>C</td>\n",
       "    </tr>\n",
       "    <tr>\n",
       "      <th>2</th>\n",
       "      <td>0</td>\n",
       "      <td>2021-08-06</td>\n",
       "      <td>0.000000</td>\n",
       "      <td>desktop</td>\n",
       "      <td>A</td>\n",
       "    </tr>\n",
       "    <tr>\n",
       "      <th>3</th>\n",
       "      <td>0</td>\n",
       "      <td>2021-08-05</td>\n",
       "      <td>0.000000</td>\n",
       "      <td>desktop</td>\n",
       "      <td>C</td>\n",
       "    </tr>\n",
       "    <tr>\n",
       "      <th>4</th>\n",
       "      <td>0</td>\n",
       "      <td>2021-08-03</td>\n",
       "      <td>0.000000</td>\n",
       "      <td>desktop</td>\n",
       "      <td>A</td>\n",
       "    </tr>\n",
       "  </tbody>\n",
       "</table>\n",
       "</div>"
      ],
      "text/plain": [
       "   conversion        date   revenue   source variant\n",
       "0           0  2021-08-07  0.000000  desktop       B\n",
       "1           1  2021-08-05  7.241015  desktop       C\n",
       "2           0  2021-08-06  0.000000  desktop       A\n",
       "3           0  2021-08-05  0.000000  desktop       C\n",
       "4           0  2021-08-03  0.000000  desktop       A"
      ]
     },
     "execution_count": 3,
     "metadata": {},
     "output_type": "execute_result"
    }
   ],
   "source": [
    "# example session data - each row represent one session\n",
    "len(df)\n",
    "df.head()"
   ]
  },
  {
   "cell_type": "code",
   "execution_count": 4,
   "id": "744e5833-cbc3-45d3-963d-11c2a92acff2",
   "metadata": {
    "tags": []
   },
   "outputs": [
    {
     "data": {
      "text/html": [
       "<div>\n",
       "<style scoped>\n",
       "    .dataframe tbody tr th:only-of-type {\n",
       "        vertical-align: middle;\n",
       "    }\n",
       "\n",
       "    .dataframe tbody tr th {\n",
       "        vertical-align: top;\n",
       "    }\n",
       "\n",
       "    .dataframe thead th {\n",
       "        text-align: right;\n",
       "    }\n",
       "</style>\n",
       "<table border=\"1\" class=\"dataframe\">\n",
       "  <thead>\n",
       "    <tr style=\"text-align: right;\">\n",
       "      <th></th>\n",
       "      <th>sessions</th>\n",
       "      <th>conversions</th>\n",
       "      <th>revenue</th>\n",
       "      <th>conversion_rate</th>\n",
       "      <th>revenue_per_session</th>\n",
       "      <th>revenue_per_converted_sessions</th>\n",
       "    </tr>\n",
       "    <tr>\n",
       "      <th>variant</th>\n",
       "      <th></th>\n",
       "      <th></th>\n",
       "      <th></th>\n",
       "      <th></th>\n",
       "      <th></th>\n",
       "      <th></th>\n",
       "    </tr>\n",
       "  </thead>\n",
       "  <tbody>\n",
       "    <tr>\n",
       "      <th>A</th>\n",
       "      <td>31500</td>\n",
       "      <td>1580</td>\n",
       "      <td>30830.025613</td>\n",
       "      <td>0.050159</td>\n",
       "      <td>0.978731</td>\n",
       "      <td>19.512674</td>\n",
       "    </tr>\n",
       "    <tr>\n",
       "      <th>B</th>\n",
       "      <td>32000</td>\n",
       "      <td>1700</td>\n",
       "      <td>35203.216888</td>\n",
       "      <td>0.053125</td>\n",
       "      <td>1.100101</td>\n",
       "      <td>20.707775</td>\n",
       "    </tr>\n",
       "    <tr>\n",
       "      <th>C</th>\n",
       "      <td>31000</td>\n",
       "      <td>1550</td>\n",
       "      <td>37259.563364</td>\n",
       "      <td>0.050000</td>\n",
       "      <td>1.201921</td>\n",
       "      <td>24.038428</td>\n",
       "    </tr>\n",
       "  </tbody>\n",
       "</table>\n",
       "</div>"
      ],
      "text/plain": [
       "         sessions  conversions       revenue  conversion_rate  \\\n",
       "variant                                                         \n",
       "A           31500         1580  30830.025613         0.050159   \n",
       "B           32000         1700  35203.216888         0.053125   \n",
       "C           31000         1550  37259.563364         0.050000   \n",
       "\n",
       "         revenue_per_session  revenue_per_converted_sessions  \n",
       "variant                                                       \n",
       "A                   0.978731                       19.512674  \n",
       "B                   1.100101                       20.707775  \n",
       "C                   1.201921                       24.038428  "
      ]
     },
     "execution_count": 4,
     "metadata": {},
     "output_type": "execute_result"
    }
   ],
   "source": [
    "# summary statistics per variant\n",
    "\n",
    "summary = df.groupby('variant')[['variant', 'conversion', 'revenue']]\\\n",
    "            .agg({'variant': 'count', 'conversion': 'sum','revenue': 'sum'})\\\n",
    "            .rename(columns = {'variant': 'sessions', 'conversion': 'conversions'})\n",
    "\n",
    "summary['conversion_rate'] = summary['conversions'] / summary['sessions']\n",
    "summary['revenue_per_session'] = summary['revenue'] / summary['sessions']\n",
    "summary['revenue_per_converted_sessions'] = summary['revenue'] / summary['conversions']\n",
    "\n",
    "summary"
   ]
  },
  {
   "cell_type": "code",
   "execution_count": 5,
   "id": "be57dc82-8958-4118-aab0-71122490d17a",
   "metadata": {
    "tags": []
   },
   "outputs": [
    {
     "data": {
      "text/plain": [
       "[31500, 32000, 31000]"
      ]
     },
     "execution_count": 5,
     "metadata": {},
     "output_type": "execute_result"
    },
    {
     "data": {
      "text/plain": [
       "[1580, 1700, 1550]"
      ]
     },
     "execution_count": 5,
     "metadata": {},
     "output_type": "execute_result"
    },
    {
     "data": {
      "text/plain": [
       "[3831.806394737816, 4211.72986767986, 4055.965234848171]"
      ]
     },
     "execution_count": 5,
     "metadata": {},
     "output_type": "execute_result"
    },
    {
     "data": {
      "text/plain": [
       "[11029.923165846496, 12259.51868396913, 12357.911862914]"
      ]
     },
     "execution_count": 5,
     "metadata": {},
     "output_type": "execute_result"
    }
   ],
   "source": [
    "variant_A = df['revenue'][(df.variant == 'A')].values\n",
    "variant_B = df['revenue'][(df.variant == 'B')].values\n",
    "variant_C = df['revenue'][(df.variant == 'C')].values\n",
    "\n",
    "sessions = [\n",
    "    variant_A.size,\n",
    "    variant_B.size,\n",
    "    variant_C.size\n",
    "]\n",
    "\n",
    "conversions = [\n",
    "    sum(variant_A > 0),\n",
    "    sum(variant_B > 0),\n",
    "    sum(variant_C > 0)\n",
    "]\n",
    "\n",
    "sum_log_revenue = [\n",
    "    np.log(variant_A[variant_A > 0]).sum(),\n",
    "    np.log(variant_B[variant_B > 0]).sum(),\n",
    "    np.log(variant_C[variant_C > 0]).sum()\n",
    "]\n",
    "\n",
    "sum_log_2_revenue = [\n",
    "    np.square(np.log(variant_A[variant_A > 0])).sum(),\n",
    "    np.square(np.log(variant_B[variant_B > 0])).sum(),\n",
    "    np.square(np.log(variant_C[variant_C > 0])).sum()\n",
    "]\n",
    "\n",
    "sessions\n",
    "conversions\n",
    "sum_log_revenue\n",
    "sum_log_2_revenue"
   ]
  },
  {
   "cell_type": "markdown",
   "id": "a68cc3a7-1c6e-40c4-b5af-59a7fb9fb548",
   "metadata": {},
   "source": [
    "## Results"
   ]
  },
  {
   "cell_type": "code",
   "execution_count": 6,
   "id": "3ade0625-fb50-434f-93f6-e70c3c543713",
   "metadata": {
    "tags": []
   },
   "outputs": [
    {
     "name": "stdout",
     "output_type": "stream",
     "text": [
      "Probabilities of being best: [0.043, 0.92335, 0.03365]\n",
      "Expected loss: [0.0030022, 5.89e-05, 0.0031487]\n",
      "95% credible intervals: [[0.0477987, 0.0525911], [0.0506903, 0.0556017], [0.0476257, 0.0524881]]\n"
     ]
    }
   ],
   "source": [
    "# conversion rate probabilities of being best, expected loss and credible intervals for each variant\n",
    "pbbs, loss, intervals = eval_bernoulli_agg(sessions, conversions)\n",
    "print(f\"Probabilities of being best: {pbbs}\")\n",
    "print(f\"Expected loss: {loss}\")\n",
    "print(f\"95% credible intervals: {intervals}\")"
   ]
  },
  {
   "cell_type": "code",
   "execution_count": 7,
   "id": "21c3ae3c-46b3-4bc7-bd33-5306d3e20506",
   "metadata": {
    "tags": []
   },
   "outputs": [
    {
     "name": "stdout",
     "output_type": "stream",
     "text": [
      "Probabilities of being best: [0.0002, 0.03395, 0.96585]\n",
      "Expected loss: [0.2212336, 0.1210695, 0.0008982]\n",
      "95% credible intervals: [[0.9086416, 1.0649507], [1.0043019, 1.170394], [1.1094296, 1.3069562]]\n"
     ]
    }
   ],
   "source": [
    "# revenue per session probabilities of being best, expected loss and credible intervals for each variant\n",
    "pbbs, loss, intervals = eval_delta_lognormal_agg(sessions, conversions, sum_log_revenue, sum_log_2_revenue)\n",
    "print(f\"Probabilities of being best: {pbbs}\")\n",
    "print(f\"Expected loss: {loss}\")\n",
    "print(f\"95% credible intervals: {intervals}\")"
   ]
  },
  {
   "cell_type": "markdown",
   "id": "bdb6c1f2-f144-4cfa-9808-b429ceed6354",
   "metadata": {},
   "source": [
    "### Results for \"being best\" = \"being minimum\""
   ]
  },
  {
   "cell_type": "code",
   "execution_count": 8,
   "id": "b651c9d9-6d51-4ad1-aabb-475296963a88",
   "metadata": {
    "tags": []
   },
   "outputs": [
    {
     "name": "stdout",
     "output_type": "stream",
     "text": [
      "Probabilities of being best: [0.4572, 0.00945, 0.53335]\n",
      "Expected loss: [0.0007868, 0.00374, 0.00062]\n",
      "95% credible intervals: [[0.0478316, 0.0526332], [0.050685, 0.0556378], [0.0476584, 0.0524571]]\n"
     ]
    }
   ],
   "source": [
    "# conversion rate probabilities of being best, expected loss and credible intervals for each variant\n",
    "pbbs, loss, intervals = eval_bernoulli_agg(sessions, conversions, min_is_best=True)\n",
    "print(f\"Probabilities of being best: {pbbs}\")\n",
    "print(f\"Expected loss: {loss}\")\n",
    "print(f\"95% credible intervals: {intervals}\")"
   ]
  },
  {
   "cell_type": "code",
   "execution_count": 9,
   "id": "f6573b6b-314e-49de-ac63-c75201eac707",
   "metadata": {
    "tags": []
   },
   "outputs": [
    {
     "name": "stdout",
     "output_type": "stream",
     "text": [
      "Probabilities of being best: [0.95695, 0.04285, 0.0002]\n",
      "Expected loss: [0.0010886, 0.1012619, 0.2202282]\n",
      "95% credible intervals: [[0.9073725, 1.0666041], [1.0044587, 1.1692741], [1.1082288, 1.305592]]\n"
     ]
    }
   ],
   "source": [
    "# revenue per session probabilities of being best, expected loss and credible intervals for each variant\n",
    "pbbs, loss, intervals = eval_delta_lognormal_agg(sessions, conversions, sum_log_revenue, sum_log_2_revenue, min_is_best=True)\n",
    "print(f\"Probabilities of being best: {pbbs}\")\n",
    "print(f\"Expected loss: {loss}\")\n",
    "print(f\"95% credible intervals: {intervals}\")"
   ]
  },
  {
   "cell_type": "code",
   "execution_count": null,
   "id": "bd9b3af3-d34c-4781-a05a-d94a7bc7ee1c",
   "metadata": {},
   "outputs": [],
   "source": []
  }
 ],
 "metadata": {
  "kernelspec": {
   "display_name": "Python 3 (ipykernel)",
   "language": "python",
   "name": "python3"
  },
  "language_info": {
   "codemirror_mode": {
    "name": "ipython",
    "version": 3
   },
   "file_extension": ".py",
   "mimetype": "text/x-python",
   "name": "python",
   "nbconvert_exporter": "python",
   "pygments_lexer": "ipython3",
   "version": "3.10.12"
  }
 },
 "nbformat": 4,
 "nbformat_minor": 5
}
