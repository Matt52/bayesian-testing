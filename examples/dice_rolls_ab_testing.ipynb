{
 "cells": [
  {
   "cell_type": "code",
   "execution_count": 1,
   "id": "45ce22be-8ae0-4b0e-bce5-9e9aab6f105f",
   "metadata": {
    "tags": []
   },
   "outputs": [],
   "source": [
    "from IPython.core.interactiveshell import InteractiveShell\n",
    "InteractiveShell.ast_node_interactivity = \"all\"\n",
    "\n",
    "import numpy as np\n",
    "np.set_printoptions(legacy=\"1.25\")\n",
    "import pandas as pd\n",
    "from bayesian_testing.experiments import DiscreteDataTest"
   ]
  },
  {
   "cell_type": "code",
   "execution_count": 2,
   "id": "f888f299-69a0-4f3c-bd57-af3a59bedba0",
   "metadata": {
    "tags": []
   },
   "outputs": [
    {
     "data": {
      "text/plain": [
       "Generator(PCG64) at 0x132BA19E0"
      ]
     },
     "execution_count": 2,
     "metadata": {},
     "output_type": "execute_result"
    }
   ],
   "source": [
    "np.random.default_rng(52)\n",
    "\n",
    "values = [1,2,3,4,5,6]"
   ]
  },
  {
   "cell_type": "code",
   "execution_count": 3,
   "id": "24a15d66-d928-432c-beb3-e25e3be10cc0",
   "metadata": {
    "tags": []
   },
   "outputs": [],
   "source": [
    "die_A_rolls = list(np.random.choice(values, 1000, p=[1/6, 1/6, 1/6, 1/6, 1/6, 1/6]))\n",
    "die_B_rolls = list(np.random.choice(values, 1200, p=[0.2, 0.2, 0.1, 0.1, 0.2, 0.2]))\n",
    "die_C_rolls = list(np.random.choice(values, 500, p=[0.2, 0.1, 0.1, 0.2, 0.2, 0.2]))"
   ]
  },
  {
   "cell_type": "code",
   "execution_count": 4,
   "id": "35989040-af25-4129-9678-de04c0397c32",
   "metadata": {
    "tags": []
   },
   "outputs": [],
   "source": [
    "discrete_test = DiscreteDataTest(values)"
   ]
  },
  {
   "cell_type": "code",
   "execution_count": 5,
   "id": "e902885d-7382-42c8-af7f-1d82fba06bb4",
   "metadata": {
    "tags": []
   },
   "outputs": [],
   "source": [
    "discrete_test.add_variant_data('A', die_A_rolls)\n",
    "discrete_test.add_variant_data('B', die_B_rolls)\n",
    "discrete_test.add_variant_data('C', die_C_rolls)"
   ]
  },
  {
   "cell_type": "code",
   "execution_count": 6,
   "id": "a3ee97a1-d48c-407b-b13c-5cfb11e6591f",
   "metadata": {
    "tags": []
   },
   "outputs": [
    {
     "data": {
      "text/plain": [
       "{'A': {'concentration': [168.0, 166.0, 176.0, 172.0, 168.0, 150.0],\n",
       "  'prior': [1, 1, 1, 1, 1, 1]},\n",
       " 'B': {'concentration': [256.0, 246.0, 111.0, 116.0, 239.0, 232.0],\n",
       "  'prior': [1, 1, 1, 1, 1, 1]},\n",
       " 'C': {'concentration': [84.0, 57.0, 58.0, 100.0, 100.0, 101.0],\n",
       "  'prior': [1, 1, 1, 1, 1, 1]}}"
      ]
     },
     "execution_count": 6,
     "metadata": {},
     "output_type": "execute_result"
    }
   ],
   "source": [
    "discrete_test.data"
   ]
  },
  {
   "cell_type": "code",
   "execution_count": 7,
   "id": "23484578-dc84-4325-9aa0-7a1498ee161b",
   "metadata": {
    "tags": []
   },
   "outputs": [
    {
     "data": {
      "text/plain": [
       "{'A': 0.00065, 'B': 0.00035, 'C': 0.999}"
      ]
     },
     "execution_count": 7,
     "metadata": {},
     "output_type": "execute_result"
    }
   ],
   "source": [
    "discrete_test.probabs_of_being_best(sim_count = 20000, seed=52)"
   ]
  },
  {
   "cell_type": "code",
   "execution_count": 8,
   "id": "7001814b-7705-420a-813d-b65393e68288",
   "metadata": {
    "tags": []
   },
   "outputs": [
    {
     "data": {
      "text/plain": [
       "{'A': 0.2964593, 'B': 0.309296, 'C': 3.45e-05}"
      ]
     },
     "execution_count": 8,
     "metadata": {},
     "output_type": "execute_result"
    }
   ],
   "source": [
    "discrete_test.expected_loss(sim_count = 20000, seed=52)"
   ]
  },
  {
   "cell_type": "code",
   "execution_count": 9,
   "id": "86cb2b3b-cc93-489f-ae1d-7becac229c33",
   "metadata": {
    "tags": []
   },
   "outputs": [
    {
     "name": "stdout",
     "output_type": "stream",
     "text": [
      "+-----------+--------------------------------------------------------------+-----------------+------------------+------------------------+-------------------+-----------------+\n",
      "| variant   | concentration                                                |   average_value |   posterior_mean | credible_interval      |   prob_being_best |   expected_loss |\n",
      "+===========+==============================================================+=================+==================+========================+===================+=================+\n",
      "| A         | {1: 168.0, 2: 166.0, 3: 176.0, 4: 172.0, 5: 168.0, 6: 150.0} |         3.456   |          3.45626 | [3.3530612, 3.559381]  |            0.0006 |        0.296753 |\n",
      "+-----------+--------------------------------------------------------------+-----------------+------------------+------------------------+-------------------+-----------------+\n",
      "| B         | {1: 256.0, 2: 246.0, 3: 111.0, 4: 116.0, 5: 239.0, 6: 232.0} |         3.44333 |          3.44362 | [3.3386877, 3.5493953] |            0.0006 |        0.309481 |\n",
      "+-----------+--------------------------------------------------------------+-----------------+------------------+------------------------+-------------------+-----------------+\n",
      "| C         | {1: 84.0, 2: 57.0, 3: 58.0, 4: 100.0, 5: 100.0, 6: 101.0}    |         3.756   |          3.75296 | [3.5993774, 3.904388]  |            0.9988 |        4.27e-05 |\n",
      "+-----------+--------------------------------------------------------------+-----------------+------------------+------------------------+-------------------+-----------------+\n"
     ]
    }
   ],
   "source": [
    "results = discrete_test.evaluate()\n",
    "print(pd.DataFrame(results).to_markdown(tablefmt=\"grid\", index=False))"
   ]
  },
  {
   "cell_type": "code",
   "execution_count": 10,
   "id": "616e35ba-26d3-4d10-ad65-4dc37e5771a6",
   "metadata": {
    "tags": []
   },
   "outputs": [
    {
     "data": {
      "text/plain": [
       "{'A': 0.4319, 'B': 0.568, 'C': 0.0001}"
      ]
     },
     "execution_count": 10,
     "metadata": {},
     "output_type": "execute_result"
    },
    {
     "data": {
      "text/plain": [
       "{'A': 0.0371495, 'B': 0.0243128, 'C': 0.3335743}"
      ]
     },
     "execution_count": 10,
     "metadata": {},
     "output_type": "execute_result"
    },
    {
     "name": "stdout",
     "output_type": "stream",
     "text": [
      "+-----------+--------------------------------------------------------------+-----------------+------------------+------------------------+-------------------+-----------------+\n",
      "| variant   | concentration                                                |   average_value |   posterior_mean | credible_interval      |   prob_being_best |   expected_loss |\n",
      "+===========+==============================================================+=================+==================+========================+===================+=================+\n",
      "| A         | {1: 168.0, 2: 166.0, 3: 176.0, 4: 172.0, 5: 168.0, 6: 150.0} |         3.456   |          3.45626 | [3.3515318, 3.5614544] |           0.4304  |       0.0370878 |\n",
      "+-----------+--------------------------------------------------------------+-----------------+------------------+------------------------+-------------------+-----------------+\n",
      "| B         | {1: 256.0, 2: 246.0, 3: 111.0, 4: 116.0, 5: 239.0, 6: 232.0} |         3.44333 |          3.44362 | [3.3376023, 3.5515158] |           0.56955 |       0.0246001 |\n",
      "+-----------+--------------------------------------------------------------+-----------------+------------------+------------------------+-------------------+-----------------+\n",
      "| C         | {1: 84.0, 2: 57.0, 3: 58.0, 4: 100.0, 5: 100.0, 6: 101.0}    |         3.756   |          3.75296 | [3.6002351, 3.9037053] |           5e-05   |       0.33356   |\n",
      "+-----------+--------------------------------------------------------------+-----------------+------------------+------------------------+-------------------+-----------------+\n"
     ]
    }
   ],
   "source": [
    "# reversed test (where minimum is best)\n",
    "discrete_test.probabs_of_being_best(sim_count = 20000, seed=52, min_is_best=True)\n",
    "discrete_test.expected_loss(sim_count = 20000, seed=52, min_is_best=True)\n",
    "results_min = discrete_test.evaluate(min_is_best=True)\n",
    "print(pd.DataFrame(results_min).to_markdown(tablefmt=\"grid\", index=False))"
   ]
  },
  {
   "cell_type": "code",
   "execution_count": null,
   "id": "19b56eb8-143e-47aa-9a22-a2473f91cfa1",
   "metadata": {},
   "outputs": [],
   "source": []
  }
 ],
 "metadata": {
  "kernelspec": {
   "display_name": "Python 3 (ipykernel)",
   "language": "python",
   "name": "python3"
  },
  "language_info": {
   "codemirror_mode": {
    "name": "ipython",
    "version": 3
   },
   "file_extension": ".py",
   "mimetype": "text/x-python",
   "name": "python",
   "nbconvert_exporter": "python",
   "pygments_lexer": "ipython3",
   "version": "3.10.12"
  }
 },
 "nbformat": 4,
 "nbformat_minor": 5
}
