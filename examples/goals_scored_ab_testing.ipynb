{
 "cells": [
  {
   "cell_type": "code",
   "execution_count": 1,
   "id": "c5f8cedc-94d6-4805-90d4-466d4de6b293",
   "metadata": {
    "tags": []
   },
   "outputs": [],
   "source": [
    "from IPython.core.interactiveshell import InteractiveShell\n",
    "InteractiveShell.ast_node_interactivity = \"all\"\n",
    "\n",
    "import numpy as np\n",
    "import pandas as pd\n",
    "from bayesian_testing.experiments import PoissonDataTest"
   ]
  },
  {
   "cell_type": "code",
   "execution_count": 2,
   "id": "8e57546e-4b90-4c89-8668-aafe4aff6485",
   "metadata": {
    "tags": []
   },
   "outputs": [
    {
     "data": {
      "text/plain": [
       "Generator(PCG64) at 0x111F9C660"
      ]
     },
     "execution_count": 2,
     "metadata": {},
     "output_type": "execute_result"
    }
   ],
   "source": [
    "np.random.default_rng(52)"
   ]
  },
  {
   "cell_type": "code",
   "execution_count": 3,
   "id": "1cc3f939-43a0-4d19-af63-9ae632861dee",
   "metadata": {
    "tags": []
   },
   "outputs": [],
   "source": [
    "# goals scored - more is better (duh...)\n",
    "psg_goals_for = [5, 5, 7, 1, 3, 3, 1, 1, 2, 0, 1, 3, 4, 2, 5]\n",
    "city_goals_for = [2, 4, 3, 4, 6, 1, 3, 6, 4, 0, 3, 1, 2, 1]\n",
    "bayern_goals_for = [6, 2, 7, 1, 1, 2, 0, 4, 2, 5, 2, 6, 3, 6, 2]\n",
    "\n",
    "\n",
    "# goals received - so less is better\n",
    "psg_goals_against = [0, 2, 1, 1, 0, 0, 0, 0, 1, 0, 0, 0, 3, 1, 0]\n",
    "city_goals_against = [0, 0, 3, 2, 0, 1, 0, 3, 0, 1, 1, 0, 1, 2]\n",
    "bayern_goals_against = [1, 0, 0, 1, 1, 2, 1, 0, 2, 0, 0, 2, 2, 1, 0]"
   ]
  },
  {
   "cell_type": "code",
   "execution_count": 4,
   "id": "fe532f01-6c91-4462-9213-e33379be1f9e",
   "metadata": {
    "tags": []
   },
   "outputs": [],
   "source": [
    "# Poisson test for \"goals for\"\n",
    "poisson_test_gf = PoissonDataTest()\n",
    "poisson_test_gf.add_variant_data('psg', psg_goals_for)\n",
    "# adding \"city\" with effective sample size 10 and the prior mean 2 (20/10):\n",
    "poisson_test_gf.add_variant_data('city', city_goals_for, a_prior=20, b_prior=10)\n",
    "# adding \"bayern\" with aggregated data instead of list of all observations\n",
    "poisson_test_gf.add_variant_data_agg('bayern', totals=len(bayern_goals_for), sum_values=sum(bayern_goals_for))\n",
    "\n",
    "\n",
    "# Poisson test for \"goals against\"\n",
    "poisson_test_ga = PoissonDataTest()\n",
    "poisson_test_ga.add_variant_data('psg', psg_goals_against)\n",
    "poisson_test_ga.add_variant_data('city', city_goals_against)\n",
    "poisson_test_ga.add_variant_data('bayern', bayern_goals_against)"
   ]
  },
  {
   "cell_type": "code",
   "execution_count": 5,
   "id": "93cd6353-01c6-4873-a62e-9816932679fe",
   "metadata": {
    "tags": []
   },
   "outputs": [
    {
     "name": "stdout",
     "output_type": "stream",
     "text": [
      "+-----------+----------+--------------+--------------------+------------------+------------------------+-------------------+-----------------+\n",
      "| variant   |   totals |   sum_values |   observed_average |   posterior_mean | credible_interval      |   prob_being_best |   expected_loss |\n",
      "+===========+==========+==============+====================+==================+========================+===================+=================+\n",
      "| psg       |       15 |           43 |            2.86667 |          2.8543  | [2.0701365, 3.7817813] |           0.24485 |        0.512094 |\n",
      "+-----------+----------+--------------+--------------------+------------------+------------------------+-------------------+-----------------+\n",
      "| city      |       14 |           40 |            2.85714 |          2.5     | [1.9035733, 3.1737824] |           0.04655 |        0.870001 |\n",
      "+-----------+----------+--------------+--------------------+------------------+------------------------+-------------------+-----------------+\n",
      "| bayern    |       15 |           49 |            3.26667 |          3.25166 | [2.4038302, 4.2176997] |           0.7086  |        0.109746 |\n",
      "+-----------+----------+--------------+--------------------+------------------+------------------------+-------------------+-----------------+\n"
     ]
    }
   ],
   "source": [
    "# poisson_test_gf.probabs_of_being_best(sim_count = 20000, seed=52)\n",
    "# poisson_test_gf.expected_loss(sim_count = 20000, seed=52)\n",
    "results_gf = poisson_test_gf.evaluate()\n",
    "print(pd.DataFrame(results_gf).to_markdown(tablefmt=\"grid\", index=False))"
   ]
  },
  {
   "cell_type": "code",
   "execution_count": 6,
   "id": "39220217-6553-4f88-b537-064ade561996",
   "metadata": {
    "tags": []
   },
   "outputs": [
    {
     "name": "stdout",
     "output_type": "stream",
     "text": [
      "+-----------+----------+--------------+--------------------+------------------+------------------------+-------------------+-----------------+\n",
      "| variant   |   totals |   sum_values |   observed_average |   posterior_mean | credible_interval      |   prob_being_best |   expected_loss |\n",
      "+===========+==========+==============+====================+==================+========================+===================+=================+\n",
      "| psg       |       15 |            9 |            0.6     |          0.60265 | [0.2140532, 1.2324781] |           0.756   |       0.0425375 |\n",
      "+-----------+----------+--------------+--------------------+------------------+------------------------+-------------------+-----------------+\n",
      "| city      |       14 |           14 |            1       |          1       | [0.4487859, 1.8478473] |           0.07585 |       0.439937  |\n",
      "+-----------+----------+--------------+--------------------+------------------+------------------------+-------------------+-----------------+\n",
      "| bayern    |       15 |           13 |            0.86667 |          0.86755 | [0.3680665, 1.6067354] |           0.16815 |       0.30884   |\n",
      "+-----------+----------+--------------+--------------------+------------------+------------------------+-------------------+-----------------+\n"
     ]
    }
   ],
   "source": [
    "# poisson_test_ga.probabs_of_being_best(sim_count = 20000, seed=52, min_is_best=True)\n",
    "# poisson_test_ga.expected_loss(sim_count = 20000, seed=52, min_is_best=True)\n",
    "results_ga = poisson_test_ga.evaluate(min_is_best=True, interval_alpha=0.99)\n",
    "print(pd.DataFrame(results_ga).to_markdown(tablefmt=\"grid\", index=False))"
   ]
  },
  {
   "cell_type": "code",
   "execution_count": null,
   "id": "d36d68d3-d119-49a4-b757-016da25f6f28",
   "metadata": {},
   "outputs": [],
   "source": []
  }
 ],
 "metadata": {
  "kernelspec": {
   "display_name": "Python 3 (ipykernel)",
   "language": "python",
   "name": "python3"
  },
  "language_info": {
   "codemirror_mode": {
    "name": "ipython",
    "version": 3
   },
   "file_extension": ".py",
   "mimetype": "text/x-python",
   "name": "python",
   "nbconvert_exporter": "python",
   "pygments_lexer": "ipython3",
   "version": "3.10.12"
  }
 },
 "nbformat": 4,
 "nbformat_minor": 5
}
