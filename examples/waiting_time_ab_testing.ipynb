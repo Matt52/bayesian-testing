{
 "cells": [
  {
   "cell_type": "code",
   "execution_count": 1,
   "id": "ffef50bb-d334-438c-b170-4d70c2d6d19e",
   "metadata": {
    "tags": []
   },
   "outputs": [],
   "source": [
    "from IPython.core.interactiveshell import InteractiveShell\n",
    "InteractiveShell.ast_node_interactivity = \"all\"\n",
    "\n",
    "import numpy as np\n",
    "np.set_printoptions(legacy=\"1.25\")\n",
    "import pandas as pd\n",
    "from bayesian_testing.experiments import ExponentialDataTest"
   ]
  },
  {
   "cell_type": "code",
   "execution_count": 2,
   "id": "133748f0-26cd-4647-9cf3-e0b7646a51af",
   "metadata": {
    "tags": []
   },
   "outputs": [
    {
     "data": {
      "text/plain": [
       "Generator(PCG64) at 0x132F99AC0"
      ]
     },
     "execution_count": 2,
     "metadata": {},
     "output_type": "execute_result"
    }
   ],
   "source": [
    "# optionally stabilize the random seed:\n",
    "np.random.default_rng(100)"
   ]
  },
  {
   "cell_type": "code",
   "execution_count": 3,
   "id": "98cbecdc-69a9-48f4-a95e-d5c71644f00c",
   "metadata": {
    "tags": []
   },
   "outputs": [],
   "source": [
    "# waiting times for 3 different variants, each with many observations\n",
    "# generated using exponential distributions with defined scales (expected values)\n",
    "waiting_times_a = np.random.exponential(scale=10, size=200)\n",
    "waiting_times_b = np.random.exponential(scale=11, size=210)\n",
    "waiting_times_c = np.random.exponential(scale=11, size=220)"
   ]
  },
  {
   "cell_type": "code",
   "execution_count": 4,
   "id": "6510ba7f-d854-4a88-b063-eb44fc59cf1b",
   "metadata": {
    "tags": []
   },
   "outputs": [
    {
     "data": {
      "text/plain": [
       "9.547258592723825"
      ]
     },
     "execution_count": 4,
     "metadata": {},
     "output_type": "execute_result"
    },
    {
     "data": {
      "text/plain": [
       "11.761611555402082"
      ]
     },
     "execution_count": 4,
     "metadata": {},
     "output_type": "execute_result"
    },
    {
     "data": {
      "text/plain": [
       "12.042807741815093"
      ]
     },
     "execution_count": 4,
     "metadata": {},
     "output_type": "execute_result"
    }
   ],
   "source": [
    "np.mean(waiting_times_a)\n",
    "np.mean(waiting_times_b)\n",
    "np.mean(waiting_times_c)"
   ]
  },
  {
   "cell_type": "code",
   "execution_count": 5,
   "id": "fde94e6d-a05b-4863-8c85-002e623ca2fb",
   "metadata": {
    "tags": []
   },
   "outputs": [],
   "source": [
    "# Exponential A/B/C test\n",
    "exponential_test = ExponentialDataTest()\n",
    "exponential_test.add_variant_data('A', waiting_times_a)\n",
    "exponential_test.add_variant_data('B', waiting_times_b)\n",
    "exponential_test.add_variant_data('C', waiting_times_c)"
   ]
  },
  {
   "cell_type": "code",
   "execution_count": 6,
   "id": "86c03a05-d091-4de5-a223-27efdfbe0615",
   "metadata": {
    "tags": []
   },
   "outputs": [
    {
     "name": "stdout",
     "output_type": "stream",
     "text": [
      "+-----------+----------+--------------+--------------------+------------------+--------------------------+-------------------+-----------------+\n",
      "| variant   |   totals |   sum_values |   observed_average |   posterior_mean | credible_interval        |   prob_being_best |   expected_loss |\n",
      "+===========+==========+==============+====================+==================+==========================+===================+=================+\n",
      "| A         |      200 |      1909.45 |            9.54726 |          9.54299 | [8.3546163, 11.024919]   |           0.97495 |       0.0094311 |\n",
      "+-----------+----------+--------------+--------------------+------------------+--------------------------+-------------------+-----------------+\n",
      "| B         |      210 |      2469.94 |           11.7616  |         11.7565  | [10.3265266, 13.5271393] |           0.0177  |       2.23267   |\n",
      "+-----------+----------+--------------+--------------------+------------------+--------------------------+-------------------+-----------------+\n",
      "| C         |      220 |      2649.42 |           12.0428  |         12.0378  | [10.5696647, 13.8087663] |           0.00735 |       2.50462   |\n",
      "+-----------+----------+--------------+--------------------+------------------+--------------------------+-------------------+-----------------+\n"
     ]
    }
   ],
   "source": [
    "# evaluate test (using min_is_best=True as a lower waiting time is better)\n",
    "results = exponential_test.evaluate(min_is_best=True)\n",
    "print(pd.DataFrame(results).to_markdown(tablefmt=\"grid\", index=False))"
   ]
  },
  {
   "cell_type": "code",
   "execution_count": null,
   "id": "5cbe6fe3-d6c8-422a-ab62-ffd87b345459",
   "metadata": {},
   "outputs": [],
   "source": []
  }
 ],
 "metadata": {
  "kernelspec": {
   "display_name": "Python 3 (ipykernel)",
   "language": "python",
   "name": "python3"
  },
  "language_info": {
   "codemirror_mode": {
    "name": "ipython",
    "version": 3
   },
   "file_extension": ".py",
   "mimetype": "text/x-python",
   "name": "python",
   "nbconvert_exporter": "python",
   "pygments_lexer": "ipython3",
   "version": "3.10.12"
  }
 },
 "nbformat": 4,
 "nbformat_minor": 5
}
